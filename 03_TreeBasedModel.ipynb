{
 "cells": [
  {
   "cell_type": "code",
   "execution_count": 37,
   "id": "db0262e0",
   "metadata": {},
   "outputs": [],
   "source": [
    "import pandas as pd\n",
    "import numpy as np\n",
    "from sklearn import metrics\n",
    "import matplotlib.pyplot as plt\n",
    "from sklearn.tree import DecisionTreeClassifier\n",
    "from collections import Counter\n",
    "from sklearn.model_selection import train_test_split\n",
    "from sklearn.preprocessing import StandardScaler\n",
    "from sklearn.metrics import confusion_matrix\n",
    "from sklearn.metrics import accuracy_score\n",
    "from sklearn.metrics import classification_report\n",
    "from imblearn.over_sampling import SMOTE\n",
    "from imblearn.over_sampling import RandomOverSampler "
   ]
  },
  {
   "cell_type": "code",
   "execution_count": 2,
   "id": "9b7adcc6",
   "metadata": {},
   "outputs": [
    {
     "name": "stdout",
     "output_type": "stream",
     "text": [
      "3.9.10\n"
     ]
    }
   ],
   "source": [
    "from platform import python_version\n",
    "\n",
    "print(python_version())"
   ]
  },
  {
   "cell_type": "code",
   "execution_count": 19,
   "id": "e66440cf",
   "metadata": {},
   "outputs": [],
   "source": [
    "def importdata():\n",
    "    loan_data = pd.read_csv('Data/merged_data.csv', sep= ',')\n",
    "    loan_data = loan_data.drop('Unnamed: 0', axis=1)\n",
    "      \n",
    "    # Printing the dataswet shape\n",
    "    print (\"Dataset Length: \", len(loan_data))\n",
    "    print (\"Dataset Shape: \", loan_data.shape)\n",
    "      \n",
    "    # Printing the dataset obseravtions\n",
    "    print (\"Dataset: \",loan_data.head())\n",
    "    return loan_data"
   ]
  },
  {
   "cell_type": "code",
   "execution_count": 5,
   "id": "4fa2bda2",
   "metadata": {},
   "outputs": [],
   "source": [
    "# Function to standardize features\n",
    "# ['nr_credit_applications', 'CRG_1.0', 'CRG_2.0', 'CRG_3.0', 'CRG_4.0', 'CRG_5.0', 'CRG_7.0']\n",
    "\n",
    "def standardization(data, excl_var):\n",
    "    temp = data.drop(excl_var, axis=1)\n",
    "    scale_features = temp.columns\n",
    "    tobe_scaled_df = data[scale_features]\n",
    "    scaler = StandardScaler().fit(tobe_scaled_df.values)\n",
    "    scaled = scaler.transform(tobe_scaled_df.values)\n",
    "    data[scale_features] = scaled\n",
    "    return data"
   ]
  },
  {
   "cell_type": "code",
   "execution_count": 40,
   "id": "d0d3e257",
   "metadata": {},
   "outputs": [],
   "source": [
    "def oversampling(X, y, method, random_state):\n",
    "    if method == \"random\":\n",
    "        ros = RandomOverSampler(random_state=random_state)\n",
    "        ros_X_train, ros_y_train = ros.fit_resample(X, y)\n",
    "        print('Original dataset shape %s' % Counter(y['credit_application']))\n",
    "        print('Resampled dataset shape %s' % Counter(ros_y_train['credit_application']))\n",
    "        return ros_X_train, ros_y_train\n",
    "    \n",
    "    if method == \"smote\":\n",
    "        columns = X.columns\n",
    "        os = SMOTE(random_state=random_state)\n",
    "        os_X_train, os_y_train = os.fit_resample(X, y)\n",
    "        print('Original dataset shape %s' % Counter(y['credit_application']))\n",
    "        print('Resampled dataset shape %s' % Counter(os_y_train['credit_application']))\n",
    "        os_data_X = pd.DataFrame(data=os_X_train,columns=columns)\n",
    "        os_data_y= pd.DataFrame(data=os_y_train,columns=['credit_application'])\n",
    "        return os_data_X, os_data_y"
   ]
  },
  {
   "cell_type": "code",
   "execution_count": 22,
   "id": "706a967b",
   "metadata": {},
   "outputs": [],
   "source": [
    "def dummyit(data, var):\n",
    "    return pd.get_dummies(data, dummy_na=False, columns=var)"
   ]
  },
  {
   "cell_type": "code",
   "execution_count": 10,
   "id": "d252591d",
   "metadata": {},
   "outputs": [],
   "source": [
    "# Function to split the dataset\n",
    "def splitdataset(data):\n",
    "  \n",
    "    # Separating the target variable\n",
    "    data = data.drop(['client_nr', 'yearmonth2'], axis=1)\n",
    "    X = data.loc[:, data.columns != 'credit_application']\n",
    "    y = data.loc[:, data.columns == 'credit_application']\n",
    "  \n",
    "    # Splitting the dataset into train and test\n",
    "    X_train, X_test, y_train, y_test = train_test_split( \n",
    "    X, y, test_size = 0.3, random_state = 100)\n",
    "      \n",
    "    return X, y, X_train, X_test, y_train, y_test"
   ]
  },
  {
   "cell_type": "code",
   "execution_count": 7,
   "id": "3a02c0a2",
   "metadata": {},
   "outputs": [],
   "source": [
    "# Function to perform training with giniIndex.\n",
    "def train_using_gini(X_train, X_test, y_train):\n",
    "  \n",
    "    clf_gini = DecisionTreeClassifier(criterion = \"gini\",\n",
    "            random_state = 100,max_depth=3, min_samples_leaf=5)\n",
    "  \n",
    "    clf_gini.fit(X_train, y_train)\n",
    "    return clf_gini\n",
    "\n",
    "# Function to perform training with entropy.\n",
    "def train_using_entropy(X_train, X_test, y_train):\n",
    "  \n",
    "    clf_entropy = DecisionTreeClassifier(\n",
    "            criterion = \"entropy\", random_state = 100,\n",
    "            max_depth = 3, min_samples_leaf = 5)\n",
    "  \n",
    "    clf_entropy.fit(X_train, y_train)\n",
    "    return clf_entropy\n",
    "  \n",
    "# Function to make predictions\n",
    "def prediction(X_test, clf_object):\n",
    "  \n",
    "    # Predicton on test with giniIndex\n",
    "    y_pred = clf_object.predict(X_test)\n",
    "    print(\"Predicted values:\")\n",
    "    print(y_pred)\n",
    "    return y_pred\n",
    "      \n",
    "# Function to calculate accuracy\n",
    "def cal_accuracy(y_test, y_pred):\n",
    "      \n",
    "    print(\"Confusion Matrix: \",\n",
    "        confusion_matrix(y_test, y_pred))\n",
    "      \n",
    "    print (\"Accuracy : \",\n",
    "    accuracy_score(y_test,y_pred)*100)\n",
    "      \n",
    "    print(\"Report : \",\n",
    "    classification_report(y_test, y_pred))"
   ]
  },
  {
   "cell_type": "code",
   "execution_count": 33,
   "id": "50fb6741",
   "metadata": {},
   "outputs": [],
   "source": [
    "# Driver code\n",
    "def main():\n",
    "      \n",
    "    # Building Phase\n",
    "    data = importdata()\n",
    "    data = dummyit(data, var=['CRG'])\n",
    "    X, Y, X_train, X_test, y_train, y_test = splitdataset(data)\n",
    "    X_train_os, y_train_os = oversampling(X_train, y_train, method='smote', random_state=49)\n",
    "    clf_gini = train_using_gini(X_train_os, X_test, y_train_os)\n",
    "    clf_entropy = train_using_entropy(X_train_os, X_test, y_train_os)\n",
    "      \n",
    "    # Operational Phase\n",
    "    print(\"Results Using Gini Index:\")\n",
    "      \n",
    "    # Prediction using gini\n",
    "    y_pred_gini = prediction(X_test, clf_gini)\n",
    "    cal_accuracy(y_test, y_pred_gini)\n",
    "      \n",
    "    print(\"Results Using Entropy:\")\n",
    "    # Prediction using entropy\n",
    "    y_pred_entropy = prediction(X_test, clf_entropy)\n",
    "    cal_accuracy(y_test, y_pred_entropy)"
   ]
  },
  {
   "cell_type": "code",
   "execution_count": 41,
   "id": "1bb2d374",
   "metadata": {},
   "outputs": [
    {
     "name": "stdout",
     "output_type": "stream",
     "text": [
      "Dataset Length:  29996\n",
      "Dataset Shape:  (29996, 12)\n",
      "Dataset:     client_nr  total_nr_trx  nr_debit_trx  volume_debit_trx  nr_credit_trx  \\\n",
      "0          1            97            50           6527929             47   \n",
      "1          1            88            59           3475918             29   \n",
      "2          1            96            62          31316405             34   \n",
      "3          1            83            53          18669967             30   \n",
      "4          1            94            54           2893905             40   \n",
      "\n",
      "   volume_credit_trx  min_balance  max_balance  CRG  yearmonth2  \\\n",
      "0            7454863     -7914288     25110651  1.0  2014-01-01   \n",
      "1            1895848     -8448513     25036651  1.0  2014-02-01   \n",
      "2           20083583    -10347650     18020151  1.0  2014-03-01   \n",
      "3            1091295    -15385039     13318200  1.0  2014-04-01   \n",
      "4            2034075    -15682170      2350000  1.0  2014-05-01   \n",
      "\n",
      "   credit_application  nr_credit_applications  \n",
      "0                   0                       0  \n",
      "1                   0                       0  \n",
      "2                   0                       0  \n",
      "3                   0                       0  \n",
      "4                   0                       0  \n",
      "Original dataset shape Counter({0: 19535, 1: 1462})\n",
      "Resampled dataset shape Counter({0: 19535, 1: 19535})\n",
      "Results Using Gini Index:\n",
      "Predicted values:\n",
      "[0 0 0 ... 0 0 1]\n",
      "Confusion Matrix:  [[8436    0]\n",
      " [   0  563]]\n",
      "Accuracy :  100.0\n",
      "Report :                precision    recall  f1-score   support\n",
      "\n",
      "           0       1.00      1.00      1.00      8436\n",
      "           1       1.00      1.00      1.00       563\n",
      "\n",
      "    accuracy                           1.00      8999\n",
      "   macro avg       1.00      1.00      1.00      8999\n",
      "weighted avg       1.00      1.00      1.00      8999\n",
      "\n",
      "Results Using Entropy:\n",
      "Predicted values:\n",
      "[0 0 0 ... 0 0 1]\n",
      "Confusion Matrix:  [[8436    0]\n",
      " [   0  563]]\n",
      "Accuracy :  100.0\n",
      "Report :                precision    recall  f1-score   support\n",
      "\n",
      "           0       1.00      1.00      1.00      8436\n",
      "           1       1.00      1.00      1.00       563\n",
      "\n",
      "    accuracy                           1.00      8999\n",
      "   macro avg       1.00      1.00      1.00      8999\n",
      "weighted avg       1.00      1.00      1.00      8999\n",
      "\n"
     ]
    }
   ],
   "source": [
    "main()"
   ]
  },
  {
   "cell_type": "code",
   "execution_count": null,
   "id": "cc65d363",
   "metadata": {},
   "outputs": [],
   "source": []
  }
 ],
 "metadata": {
  "kernelspec": {
   "display_name": "Python 3 (ipykernel)",
   "language": "python",
   "name": "python3"
  },
  "language_info": {
   "codemirror_mode": {
    "name": "ipython",
    "version": 3
   },
   "file_extension": ".py",
   "mimetype": "text/x-python",
   "name": "python",
   "nbconvert_exporter": "python",
   "pygments_lexer": "ipython3",
   "version": "3.9.10"
  }
 },
 "nbformat": 4,
 "nbformat_minor": 5
}
