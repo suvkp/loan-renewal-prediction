{
 "cells": [
  {
   "cell_type": "code",
   "execution_count": 32,
   "id": "2959b8dc",
   "metadata": {},
   "outputs": [],
   "source": [
    "import pandas as pd\n",
    "import numpy as np\n",
    "import matplotlib.pyplot as plt\n",
    "from scipy import stats\n",
    "import seaborn as sns\n",
    "from collections import Counter\n",
    "from sklearn.model_selection import train_test_split\n",
    "from sklearn.linear_model import LogisticRegression\n",
    "from imblearn.over_sampling import SMOTE\n",
    "from imblearn.over_sampling import RandomOverSampler \n",
    "from sklearn.feature_selection import RFE\n",
    "import statsmodels.api as sm\n",
    "from sklearn.preprocessing import StandardScaler\n",
    "from sklearn import metrics\n",
    "from sklearn.metrics import confusion_matrix\n",
    "from sklearn.metrics import classification_report"
   ]
  },
  {
   "cell_type": "code",
   "execution_count": 2,
   "id": "ac85fc61",
   "metadata": {},
   "outputs": [],
   "source": [
    "def importdata():\n",
    "    loan_data = pd.read_csv('Data/merged_data.csv', sep= ',')\n",
    "    loan_data = loan_data.drop('Unnamed: 0', axis=1)\n",
    "      \n",
    "    # Printing the dataswet shape\n",
    "    print (\"Dataset Length: \", len(loan_data))\n",
    "    print (\"Dataset Shape: \", loan_data.shape)\n",
    "      \n",
    "    # Printing the dataset obseravtions\n",
    "    print (\"Dataset: \",loan_data.head())\n",
    "    return loan_data"
   ]
  },
  {
   "cell_type": "code",
   "execution_count": 3,
   "id": "cf04850f",
   "metadata": {},
   "outputs": [
    {
     "name": "stdout",
     "output_type": "stream",
     "text": [
      "Dataset Length:  29996\n",
      "Dataset Shape:  (29996, 12)\n",
      "Dataset:     client_nr  total_nr_trx  nr_debit_trx  volume_debit_trx  nr_credit_trx  \\\n",
      "0          1            97            50           6527929             47   \n",
      "1          1            88            59           3475918             29   \n",
      "2          1            96            62          31316405             34   \n",
      "3          1            83            53          18669967             30   \n",
      "4          1            94            54           2893905             40   \n",
      "\n",
      "   volume_credit_trx  min_balance  max_balance  CRG  yearmonth2  \\\n",
      "0            7454863     -7914288     25110651  1.0  2014-01-01   \n",
      "1            1895848     -8448513     25036651  1.0  2014-02-01   \n",
      "2           20083583    -10347650     18020151  1.0  2014-03-01   \n",
      "3            1091295    -15385039     13318200  1.0  2014-04-01   \n",
      "4            2034075    -15682170      2350000  1.0  2014-05-01   \n",
      "\n",
      "   credit_application  nr_credit_applications  \n",
      "0                   0                       0  \n",
      "1                   0                       0  \n",
      "2                   0                       0  \n",
      "3                   0                       0  \n",
      "4                   0                       0  \n"
     ]
    }
   ],
   "source": [
    "merge_df = importdata()"
   ]
  },
  {
   "cell_type": "markdown",
   "id": "6aa8d8ec",
   "metadata": {},
   "source": [
    "## 3. Feature Engineering"
   ]
  },
  {
   "cell_type": "markdown",
   "id": "9f491a43",
   "metadata": {},
   "source": [
    "### 3.1 Dummy variable"
   ]
  },
  {
   "cell_type": "code",
   "execution_count": 4,
   "id": "6fff7443",
   "metadata": {},
   "outputs": [],
   "source": [
    "def dummyit(data, var):\n",
    "    return pd.get_dummies(data, dummy_na=False, columns=var)"
   ]
  },
  {
   "cell_type": "code",
   "execution_count": 6,
   "id": "909e5646",
   "metadata": {},
   "outputs": [
    {
     "data": {
      "text/html": [
       "<div>\n",
       "<style scoped>\n",
       "    .dataframe tbody tr th:only-of-type {\n",
       "        vertical-align: middle;\n",
       "    }\n",
       "\n",
       "    .dataframe tbody tr th {\n",
       "        vertical-align: top;\n",
       "    }\n",
       "\n",
       "    .dataframe thead th {\n",
       "        text-align: right;\n",
       "    }\n",
       "</style>\n",
       "<table border=\"1\" class=\"dataframe\">\n",
       "  <thead>\n",
       "    <tr style=\"text-align: right;\">\n",
       "      <th></th>\n",
       "      <th>client_nr</th>\n",
       "      <th>total_nr_trx</th>\n",
       "      <th>nr_debit_trx</th>\n",
       "      <th>volume_debit_trx</th>\n",
       "      <th>nr_credit_trx</th>\n",
       "      <th>volume_credit_trx</th>\n",
       "      <th>min_balance</th>\n",
       "      <th>max_balance</th>\n",
       "      <th>yearmonth2</th>\n",
       "      <th>credit_application</th>\n",
       "      <th>nr_credit_applications</th>\n",
       "      <th>CRG_1.0</th>\n",
       "      <th>CRG_2.0</th>\n",
       "      <th>CRG_3.0</th>\n",
       "      <th>CRG_4.0</th>\n",
       "      <th>CRG_5.0</th>\n",
       "      <th>CRG_7.0</th>\n",
       "    </tr>\n",
       "  </thead>\n",
       "  <tbody>\n",
       "    <tr>\n",
       "      <th>0</th>\n",
       "      <td>1</td>\n",
       "      <td>97</td>\n",
       "      <td>50</td>\n",
       "      <td>6527929</td>\n",
       "      <td>47</td>\n",
       "      <td>7454863</td>\n",
       "      <td>-7914288</td>\n",
       "      <td>25110651</td>\n",
       "      <td>2014-01-01</td>\n",
       "      <td>0</td>\n",
       "      <td>0</td>\n",
       "      <td>1</td>\n",
       "      <td>0</td>\n",
       "      <td>0</td>\n",
       "      <td>0</td>\n",
       "      <td>0</td>\n",
       "      <td>0</td>\n",
       "    </tr>\n",
       "    <tr>\n",
       "      <th>1</th>\n",
       "      <td>1</td>\n",
       "      <td>88</td>\n",
       "      <td>59</td>\n",
       "      <td>3475918</td>\n",
       "      <td>29</td>\n",
       "      <td>1895848</td>\n",
       "      <td>-8448513</td>\n",
       "      <td>25036651</td>\n",
       "      <td>2014-02-01</td>\n",
       "      <td>0</td>\n",
       "      <td>0</td>\n",
       "      <td>1</td>\n",
       "      <td>0</td>\n",
       "      <td>0</td>\n",
       "      <td>0</td>\n",
       "      <td>0</td>\n",
       "      <td>0</td>\n",
       "    </tr>\n",
       "    <tr>\n",
       "      <th>2</th>\n",
       "      <td>1</td>\n",
       "      <td>96</td>\n",
       "      <td>62</td>\n",
       "      <td>31316405</td>\n",
       "      <td>34</td>\n",
       "      <td>20083583</td>\n",
       "      <td>-10347650</td>\n",
       "      <td>18020151</td>\n",
       "      <td>2014-03-01</td>\n",
       "      <td>0</td>\n",
       "      <td>0</td>\n",
       "      <td>1</td>\n",
       "      <td>0</td>\n",
       "      <td>0</td>\n",
       "      <td>0</td>\n",
       "      <td>0</td>\n",
       "      <td>0</td>\n",
       "    </tr>\n",
       "    <tr>\n",
       "      <th>3</th>\n",
       "      <td>1</td>\n",
       "      <td>83</td>\n",
       "      <td>53</td>\n",
       "      <td>18669967</td>\n",
       "      <td>30</td>\n",
       "      <td>1091295</td>\n",
       "      <td>-15385039</td>\n",
       "      <td>13318200</td>\n",
       "      <td>2014-04-01</td>\n",
       "      <td>0</td>\n",
       "      <td>0</td>\n",
       "      <td>1</td>\n",
       "      <td>0</td>\n",
       "      <td>0</td>\n",
       "      <td>0</td>\n",
       "      <td>0</td>\n",
       "      <td>0</td>\n",
       "    </tr>\n",
       "    <tr>\n",
       "      <th>4</th>\n",
       "      <td>1</td>\n",
       "      <td>94</td>\n",
       "      <td>54</td>\n",
       "      <td>2893905</td>\n",
       "      <td>40</td>\n",
       "      <td>2034075</td>\n",
       "      <td>-15682170</td>\n",
       "      <td>2350000</td>\n",
       "      <td>2014-05-01</td>\n",
       "      <td>0</td>\n",
       "      <td>0</td>\n",
       "      <td>1</td>\n",
       "      <td>0</td>\n",
       "      <td>0</td>\n",
       "      <td>0</td>\n",
       "      <td>0</td>\n",
       "      <td>0</td>\n",
       "    </tr>\n",
       "  </tbody>\n",
       "</table>\n",
       "</div>"
      ],
      "text/plain": [
       "   client_nr  total_nr_trx  nr_debit_trx  volume_debit_trx  nr_credit_trx  \\\n",
       "0          1            97            50           6527929             47   \n",
       "1          1            88            59           3475918             29   \n",
       "2          1            96            62          31316405             34   \n",
       "3          1            83            53          18669967             30   \n",
       "4          1            94            54           2893905             40   \n",
       "\n",
       "   volume_credit_trx  min_balance  max_balance  yearmonth2  \\\n",
       "0            7454863     -7914288     25110651  2014-01-01   \n",
       "1            1895848     -8448513     25036651  2014-02-01   \n",
       "2           20083583    -10347650     18020151  2014-03-01   \n",
       "3            1091295    -15385039     13318200  2014-04-01   \n",
       "4            2034075    -15682170      2350000  2014-05-01   \n",
       "\n",
       "   credit_application  nr_credit_applications  CRG_1.0  CRG_2.0  CRG_3.0  \\\n",
       "0                   0                       0        1        0        0   \n",
       "1                   0                       0        1        0        0   \n",
       "2                   0                       0        1        0        0   \n",
       "3                   0                       0        1        0        0   \n",
       "4                   0                       0        1        0        0   \n",
       "\n",
       "   CRG_4.0  CRG_5.0  CRG_7.0  \n",
       "0        0        0        0  \n",
       "1        0        0        0  \n",
       "2        0        0        0  \n",
       "3        0        0        0  \n",
       "4        0        0        0  "
      ]
     },
     "execution_count": 6,
     "metadata": {},
     "output_type": "execute_result"
    }
   ],
   "source": [
    "crg_dummy_df = dummyit(merge_df, var=['CRG'])\n",
    "crg_dummy_df.head(5)"
   ]
  },
  {
   "cell_type": "markdown",
   "id": "2854f510",
   "metadata": {},
   "source": [
    "### Debt to Income ratio calculation"
   ]
  },
  {
   "cell_type": "markdown",
   "id": "f747243c",
   "metadata": {},
   "source": [
    "### 3.2 Scaling variables to similar scale"
   ]
  },
  {
   "cell_type": "code",
   "execution_count": 7,
   "id": "791ea47c",
   "metadata": {},
   "outputs": [],
   "source": [
    "# Function to split the dataset\n",
    "def splitdataset(data):\n",
    "  \n",
    "    # Separating the target variable\n",
    "    data = data.drop(['client_nr', 'yearmonth2'], axis=1)\n",
    "    X = data.loc[:, data.columns != 'credit_application']\n",
    "    y = data.loc[:, data.columns == 'credit_application']\n",
    "  \n",
    "    # Splitting the dataset into train and test\n",
    "    X_train, X_test, y_train, y_test = train_test_split( \n",
    "    X, y, test_size = 0.3, random_state = 100)\n",
    "      \n",
    "    return X, y, X_train, X_test, y_train, y_test"
   ]
  },
  {
   "cell_type": "code",
   "execution_count": 13,
   "id": "22ba0737",
   "metadata": {},
   "outputs": [],
   "source": [
    "# Function to standardize features\n",
    "# ['nr_credit_applications', 'CRG_1.0', 'CRG_2.0', 'CRG_3.0', 'CRG_4.0', 'CRG_5.0', 'CRG_7.0']\n",
    "\n",
    "def standardization(data, excl_var=None):\n",
    "    temp = data.drop(excl_var, axis=1)\n",
    "    scale_features = temp.columns\n",
    "    tobe_scaled_df = data[scale_features]\n",
    "    scaler = StandardScaler().fit(tobe_scaled_df.values)\n",
    "    scaled = scaler.transform(tobe_scaled_df.values)\n",
    "    data[scale_features] = scaled\n",
    "    return data"
   ]
  },
  {
   "cell_type": "code",
   "execution_count": 16,
   "id": "7172d868",
   "metadata": {},
   "outputs": [],
   "source": [
    "X, Y, X_train, X_test, y_train, y_test = splitdataset(crg_dummy_df)\n",
    "X_train_sc = standardization(X_train, excl_var=['nr_credit_applications', 'CRG_1.0', 'CRG_2.0', 'CRG_3.0', 'CRG_4.0', 'CRG_5.0', 'CRG_7.0'])\n",
    "X_test_sc = standardization(X_test, excl_var=['nr_credit_applications', 'CRG_1.0', 'CRG_2.0', 'CRG_3.0', 'CRG_4.0', 'CRG_5.0', 'CRG_7.0'])"
   ]
  },
  {
   "cell_type": "markdown",
   "id": "4784dc37",
   "metadata": {},
   "source": [
    "### 3.3 Oversampling to balance target variable\n",
    "#### Strategy: \n",
    "*Oversample on training dataset only to train the model equally on both classes of target variable. Do not oversample the test dataset to avoid information leak from test dataset to create synthetic datapoints*"
   ]
  },
  {
   "cell_type": "markdown",
   "id": "7b1dbe9b",
   "metadata": {},
   "source": [
    "##### SMOTE high-level understanding:\n",
    "* Works by creating synthetic samples from the minor class (no-subscription) instead of creating copies\n",
    "* Randomly choosing one of the k-nearest-neighbors and using it to create a similar, but randomly tweaked, new observations\n",
    "\n",
    "##### SMOTE vs Random oversampler?\n",
    "Random oversampling just randomly samples the minority class and simply duplicates the observations. Wherease, in SMOTE the minority class is sampled based on interpolation between available observations in the original dataset, resulting in more realistic sampled data"
   ]
  },
  {
   "cell_type": "code",
   "execution_count": 19,
   "id": "eb560512",
   "metadata": {},
   "outputs": [],
   "source": [
    "def oversampling(X, y, method=\"random\", random_state=0):\n",
    "    if method == \"random\":\n",
    "        ros = RandomOverSampler(random_state=random_state)\n",
    "        ros_X_train, ros_y_train = ros.fit_resample(X, y)\n",
    "        print('Original dataset shape %s' % Counter(y['credit_application']))\n",
    "        print('Resampled dataset shape %s' % Counter(ros_y_train['credit_application']))\n",
    "        return ros_X_train, ros_y_train\n",
    "    \n",
    "    if method == \"smote\":\n",
    "        columns = X.columns\n",
    "        os = SMOTE(random_state=random_state)\n",
    "        os_X_train, os_y_train = os.fit_resample(X, y)\n",
    "        print('Original dataset shape %s' % Counter(y['credit_application']))\n",
    "        print('Resampled dataset shape %s' % Counter(os_y_train['credit_application']))\n",
    "        os_data_X = pd.DataFrame(data=os_X_train,columns=columns)\n",
    "        os_data_y= pd.DataFrame(data=os_y_train,columns=['credit_application'])\n",
    "        return os_data_X, os_data_y"
   ]
  },
  {
   "cell_type": "code",
   "execution_count": 20,
   "id": "d7a20a56",
   "metadata": {},
   "outputs": [
    {
     "name": "stdout",
     "output_type": "stream",
     "text": [
      "Original dataset shape Counter({0: 19535, 1: 1462})\n",
      "Resampled dataset shape Counter({0: 19535, 1: 19535})\n",
      "Original dataset shape Counter({0: 19535, 1: 1462})\n",
      "Resampled dataset shape Counter({0: 19535, 1: 19535})\n"
     ]
    }
   ],
   "source": [
    "ros_X_train, ros_y_train = oversampling(X_train_sc, y_train, method=\"random\")\n",
    "os_X_train, os_y_train = oversampling(X_train_sc, y_train, method=\"smote\")"
   ]
  },
  {
   "cell_type": "markdown",
   "id": "7c23e63c",
   "metadata": {},
   "source": [
    "### 3.4 RFE (Recursive Feature Elimination)\n",
    "\n",
    "#### Purpose: \n",
    "Recursively select set of features and eliminate the least important features iteratively"
   ]
  },
  {
   "cell_type": "code",
   "execution_count": 21,
   "id": "0b29cb35",
   "metadata": {},
   "outputs": [
    {
     "name": "stdout",
     "output_type": "stream",
     "text": [
      "[False  True False  True False False  True  True  True  True  True  True\n",
      "  True  True]\n",
      "[5 1 4 1 3 2 1 1 1 1 1 1 1 1]\n"
     ]
    }
   ],
   "source": [
    "logreg_model = LogisticRegression()\n",
    "\n",
    "rfe = RFE(logreg_model, n_features_to_select=10)\n",
    "rfe = rfe.fit(os_X_train, os_y_train.values.ravel())\n",
    "print(rfe.support_)\n",
    "print(rfe.ranking_)"
   ]
  },
  {
   "cell_type": "code",
   "execution_count": 22,
   "id": "c7e38056",
   "metadata": {},
   "outputs": [],
   "source": [
    "rfe_cols_ros = ['nr_debit_trx', 'nr_credit_trx', 'min_balance', 'nr_credit_applications', 'CRG_1.0', \n",
    "            'CRG_2.0', 'CRG_3.0', 'CRG_4.0', 'CRG_5.0', 'CRG_7.0']\n",
    "\n",
    "rfe_cols_os = ['nr_debit_trx', 'nr_credit_trx', 'min_balance', 'nr_credit_applications', 'CRG_1.0', \n",
    "            'CRG_2.0', 'CRG_3.0', 'CRG_4.0', 'CRG_5.0', 'CRG_7.0']"
   ]
  },
  {
   "cell_type": "markdown",
   "id": "5eccd5b5",
   "metadata": {},
   "source": [
    "## 4. Model implementation"
   ]
  },
  {
   "cell_type": "markdown",
   "id": "f5a9874d",
   "metadata": {},
   "source": [
    "### 4.1 GLM for variable significance"
   ]
  },
  {
   "cell_type": "code",
   "execution_count": 25,
   "id": "86f1c48f",
   "metadata": {},
   "outputs": [],
   "source": [
    "X_rfe = os_X_train[rfe_cols_os]\n",
    "y_rfe = os_y_train['credit_application']"
   ]
  },
  {
   "cell_type": "code",
   "execution_count": 26,
   "id": "1593fc62",
   "metadata": {},
   "outputs": [
    {
     "name": "stdout",
     "output_type": "stream",
     "text": [
      "                 Generalized Linear Model Regression Results                  \n",
      "==============================================================================\n",
      "Dep. Variable:     credit_application   No. Observations:                39070\n",
      "Model:                            GLM   Df Residuals:                    39060\n",
      "Model Family:                Binomial   Df Model:                            9\n",
      "Link Function:                  Logit   Scale:                          1.0000\n",
      "Method:                          IRLS   Log-Likelihood:                -1610.6\n",
      "Date:                Thu, 18 Aug 2022   Deviance:                       3221.2\n",
      "Time:                        00:11:02   Pearson chi2:                 4.63e+15\n",
      "No. Iterations:                    30   Pseudo R-squ. (CS):             0.7285\n",
      "Covariance Type:            nonrobust                                         \n",
      "==========================================================================================\n",
      "                             coef    std err          z      P>|z|      [0.025      0.975]\n",
      "------------------------------------------------------------------------------------------\n",
      "nr_debit_trx               0.2953      0.048      6.182      0.000       0.202       0.389\n",
      "nr_credit_trx             -0.2877      0.069     -4.178      0.000      -0.423      -0.153\n",
      "min_balance               -3.4151      0.103    -33.050      0.000      -3.618      -3.213\n",
      "nr_credit_applications   154.0502   4.16e+05      0.000      1.000   -8.15e+05    8.15e+05\n",
      "CRG_1.0                  -45.0346   1.06e+05     -0.000      1.000   -2.07e+05    2.07e+05\n",
      "CRG_2.0                 -115.1076   9.34e+05     -0.000      1.000   -1.83e+06    1.83e+06\n",
      "CRG_3.0                  -52.7128   1.87e+05     -0.000      1.000   -3.66e+05    3.66e+05\n",
      "CRG_4.0                 -119.4148   7.15e+05     -0.000      1.000    -1.4e+06     1.4e+06\n",
      "CRG_5.0                 -121.5091   7.94e+05     -0.000      1.000   -1.56e+06    1.56e+06\n",
      "CRG_7.0                 -126.0576   4.16e+05     -0.000      1.000   -8.15e+05    8.15e+05\n",
      "==========================================================================================\n"
     ]
    }
   ],
   "source": [
    "res=sm.GLM(y_rfe, X_rfe, family=sm.families.Binomial()).fit()\n",
    "print(res.summary())"
   ]
  },
  {
   "cell_type": "code",
   "execution_count": 27,
   "id": "d7881529",
   "metadata": {},
   "outputs": [],
   "source": [
    "final_features = ['nr_debit_trx', 'nr_credit_trx', 'min_balance']\n",
    "X_train_new = X_rfe[final_features]\n",
    "X_test_new = X_test_sc[final_features]"
   ]
  },
  {
   "cell_type": "markdown",
   "id": "3a1120d0",
   "metadata": {},
   "source": [
    "### 4.2 Logistic Regression Model Fitting"
   ]
  },
  {
   "cell_type": "code",
   "execution_count": 28,
   "id": "ceda0a66",
   "metadata": {},
   "outputs": [
    {
     "name": "stdout",
     "output_type": "stream",
     "text": [
      "Accuracy of logistic regression classifier on test set: 0.66\n"
     ]
    }
   ],
   "source": [
    "logreg = LogisticRegression()\n",
    "logreg.fit(X_train_new, y_rfe.values.ravel())\n",
    "y_pred = logreg.predict(X_test_new)\n",
    "print('Accuracy of logistic regression classifier on test set: {:.2f}'.format(logreg.score(X_test_new, y_test)))"
   ]
  },
  {
   "cell_type": "code",
   "execution_count": 31,
   "id": "a8d1fbdf",
   "metadata": {},
   "outputs": [
    {
     "name": "stdout",
     "output_type": "stream",
     "text": [
      "[[5657 2779]\n",
      " [ 271  292]]\n"
     ]
    }
   ],
   "source": [
    "confusion_matrix = confusion_matrix(y_test, y_pred)\n",
    "print(confusion_matrix)"
   ]
  },
  {
   "cell_type": "code",
   "execution_count": 33,
   "id": "1e3d6f54",
   "metadata": {},
   "outputs": [
    {
     "name": "stdout",
     "output_type": "stream",
     "text": [
      "              precision    recall  f1-score   support\n",
      "\n",
      "           0       0.95      0.67      0.79      8436\n",
      "           1       0.10      0.52      0.16       563\n",
      "\n",
      "    accuracy                           0.66      8999\n",
      "   macro avg       0.52      0.59      0.47      8999\n",
      "weighted avg       0.90      0.66      0.75      8999\n",
      "\n"
     ]
    }
   ],
   "source": [
    "print(classification_report(y_test, y_pred))"
   ]
  },
  {
   "cell_type": "markdown",
   "id": "98202bfa",
   "metadata": {},
   "source": [
    "__Note:__\n",
    "\n",
    "Model must be able to identify most of the people who will apply for loan renewal, i.e., minimize FN. Basically model should be able to identify most TP's, which means high recall is required.\n",
    "\n",
    "*Precision*: The precision is intuitively the ability of the classifier to not label a sample as positive if it is negative\n",
    "\n",
    "*Recall*: The recall is intuitively the ability of the classifier to find all the positive samples"
   ]
  },
  {
   "cell_type": "code",
   "execution_count": 35,
   "id": "df288745",
   "metadata": {},
   "outputs": [
    {
     "data": {
      "image/png": "[encoded data removed]",
      "text/plain": [
       "<Figure size 432x288 with 1 Axes>"
      ]
     },
     "metadata": {
      "needs_background": "light"
     },
     "output_type": "display_data"
    }
   ],
   "source": [
    "from sklearn.metrics import roc_auc_score\n",
    "from sklearn.metrics import roc_curve\n",
    "\n",
    "logit_roc_auc = roc_auc_score(y_test, y_pred)\n",
    "fpr, tpr, thresholds = roc_curve(y_test, logreg.predict_proba(X_test_new)[:,1])\n",
    "plt.figure()\n",
    "plt.plot(fpr, tpr, label='Logistic Regression (area = %0.2f)' % logit_roc_auc)\n",
    "plt.plot([0, 1], [0, 1],'r--')\n",
    "plt.xlim([0.0, 1.0])\n",
    "plt.ylim([0.0, 1.05])\n",
    "plt.xlabel('False Positive Rate')\n",
    "plt.ylabel('True Positive Rate')\n",
    "plt.title('Receiver operating characteristic')\n",
    "plt.legend(loc=\"lower right\")\n",
    "plt.savefig('Log_ROC')\n",
    "plt.show()"
   ]
  },
  {
   "cell_type": "code",
   "execution_count": null,
   "id": "d81f7b5a",
   "metadata": {},
   "outputs": [],
   "source": []
  }
 ],
 "metadata": {
  "kernelspec": {
   "display_name": "Python 3 (ipykernel)",
   "language": "python",
   "name": "python3"
  },
  "language_info": {
   "codemirror_mode": {
    "name": "ipython",
    "version": 3
   },
   "file_extension": ".py",
   "mimetype": "text/x-python",
   "name": "python",
   "nbconvert_exporter": "python",
   "pygments_lexer": "ipython3",
   "version": "3.9.10"
  }
 },
 "nbformat": 4,
 "nbformat_minor": 5
}
